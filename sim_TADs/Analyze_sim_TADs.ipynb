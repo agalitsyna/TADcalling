{
 "cells": [
  {
   "cell_type": "code",
   "execution_count": 43,
   "metadata": {},
   "outputs": [],
   "source": [
    "import pandas as pd\n",
    "import numpy as np\n",
    "import seaborn as sns\n",
    "import matplotlib as mpl\n",
    "import matplotlib.pyplot as plt\n",
    "import numpy.core.defchararray as npchar\n",
    "import pickle\n",
    "import matplotlib.patches as mpatches"
   ]
  },
  {
   "cell_type": "code",
   "execution_count": 2,
   "metadata": {},
   "outputs": [],
   "source": [
    "# set initial properties for data location\n",
    "res = 40000\n",
    "data_location = \"matrices/\"\n",
    "true_location = \"trueTADs/\"\n",
    "armatus_location = \"./armatus\"\n",
    "out_location = \"yielded/\"\n",
    "noise_values = [4, 8, 12, 16, 20]\n",
    "sim_values = list(range(1, 6))\n",
    "TAD_callers = (\"lava_modularity\", \"lava_armatus\")"
   ]
  },
  {
   "cell_type": "code",
   "execution_count": 3,
   "metadata": {},
   "outputs": [],
   "source": [
    "# set range of gammas for methods\n",
    "armatus_gamma = [i / 2 for i in range(11)]\n",
    "modularity_gamma = list(range(101))"
   ]
  },
  {
   "cell_type": "code",
   "execution_count": 23,
   "metadata": {},
   "outputs": [],
   "source": [
    "# set plotting values\n",
    "sns.set_palette(sns.color_palette(\"hls\", 12))"
   ]
  },
  {
   "cell_type": "code",
   "execution_count": 4,
   "metadata": {},
   "outputs": [],
   "source": [
    "# custom functions\n",
    "vector_str = np.vectorize(str)\n",
    "\n",
    "def TAD_bins(arr1, arr2):\n",
    "    vector_str = np.vectorize(str)\n",
    "    return npchar.add(vector_str(arr1), npchar.add(\",\", vector_str(arr2)))\n",
    "\n",
    "def TAD_boundaries(arr1, arr2):\n",
    "    return np.unique(np.append(arr1, arr2))"
   ]
  },
  {
   "cell_type": "code",
   "execution_count": 5,
   "metadata": {},
   "outputs": [
    {
     "name": "stdout",
     "output_type": "stream",
     "text": [
      "noise=20 sim=5\n",
      "finished\n"
     ]
    }
   ],
   "source": [
    "# load true TADs coordinates\n",
    "true_TADs = pd.DataFrame(index=noise_values, columns=sim_values)\n",
    "for noise in noise_values:\n",
    "    for sim in sim_values:\n",
    "        print(f\"\\rnoise={noise} sim={sim}\", end=\"\")\n",
    "        true_TADs.loc[noise, sim] = np.loadtxt(f\"{true_location}simHiC_TADintervals_coords_noise{noise}_sim{sim}.txt\")\n",
    "print(\"\\nfinished\")"
   ]
  },
  {
   "cell_type": "code",
   "execution_count": 6,
   "metadata": {},
   "outputs": [],
   "source": [
    "# combine true TADs coordinates into strings\n",
    "true_TADs_bins = pd.DataFrame(index=noise_values, columns=sim_values)\n",
    "for noise in noise_values:\n",
    "    for sim in sim_values:\n",
    "        true_TADs_bins.loc[noise, sim] = npchar.add(vector_str(true_TADs.loc[noise, sim][:, 0]), npchar.add(\",\", vector_str(true_TADs.loc[noise, sim][:, 1])))"
   ]
  },
  {
   "cell_type": "code",
   "execution_count": 7,
   "metadata": {},
   "outputs": [],
   "source": [
    "# make unique true TADs boundaries\n",
    "true_TADs_boundaries = pd.DataFrame(index=noise_values, columns=sim_values)\n",
    "for noise in noise_values:\n",
    "    for sim in sim_values:\n",
    "        true_TADs_boundaries.loc[noise, sim] = np.unique(np.append(true_TADs.loc[noise, sim][:, 0], true_TADs.loc[noise, sim][:, 1]))"
   ]
  },
  {
   "cell_type": "code",
   "execution_count": 8,
   "metadata": {},
   "outputs": [],
   "source": [
    "#TAD_stats = dict.fromkeys((\"TPR_bins\", \"TPR_boundaries\", \"FDR_bins\", \"FDR_boundaries\"))\n",
    "stats = (\"TPR_bins\", \"TPR_boundaries\", \"FDR_bins\", \"FDR_boundaries\")\n",
    "method_ranges = {\"armatus\":armatus_gamma, \"lava_modularity\":modularity_gamma, \"lava_armatus\":armatus_gamma}\n",
    "TAD_stats = {stat:{method:{gamma:pd.DataFrame(index=noise_values, columns=sim_values) for gamma in method_ranges[method]} for method in TAD_callers} for stat in stats}"
   ]
  },
  {
   "cell_type": "code",
   "execution_count": 16,
   "metadata": {},
   "outputs": [
    {
     "name": "stdout",
     "output_type": "stream",
     "text": [
      " method=lava_armatus noise=20 sim=5 gamma=5.0100"
     ]
    }
   ],
   "source": [
    "# count TPR and FDR for TADs\n",
    "# TPR = TP / (TP + FN) = TP / observed_TADs\n",
    "# FDR = FP / (TP + FP) = FP / true_TADs\n",
    "for method in TAD_callers:\n",
    "    for noise in noise_values:\n",
    "        for sim in sim_values:\n",
    "            for gamma in method_ranges[method]:\n",
    "                print(f\"\\r method={method} noise={noise} sim={sim} gamma={gamma}\", end=\"\")\n",
    "                TADs = np.loadtxt(f\"{out_location}{method}_noise{noise}_sim{sim}_gamma{gamma}.txt\", ndmin=2)\n",
    "                bins = TAD_bins(TADs[:, 0], TADs[:, 1])\n",
    "                boundaries = TAD_boundaries(TADs[:, 0], TADs[:, 1])\n",
    "                TAD_stats[\"TPR_bins\"][method][gamma].loc[noise, sim] = sum(np.isin(bins, true_TADs_bins.loc[noise, sim])) / true_TADs_bins.loc[noise, sim].shape[0]\n",
    "                TAD_stats[\"FDR_bins\"][method][gamma].loc[noise, sim] = sum(~np.isin(bins, true_TADs_bins.loc[noise, sim])) / bins.shape[0]\n",
    "                TAD_stats[\"TPR_boundaries\"][method][gamma].loc[noise, sim] = sum(np.isin(boundaries, true_TADs_boundaries.loc[noise, sim])) / true_TADs_boundaries.loc[noise, sim].shape[0]\n",
    "                TAD_stats[\"FDR_boundaries\"][method][gamma].loc[noise, sim] = sum(~np.isin(boundaries, true_TADs_boundaries.loc[noise, sim])) / boundaries.shape[0]"
   ]
  },
  {
   "cell_type": "code",
   "execution_count": 49,
   "metadata": {},
   "outputs": [],
   "source": [
    "# Initialize dataframe for plotting lava armatus stats\n",
    "lava_armatus_stats = pd.DataFrame(index=range(len(noise_values) * len(sim_values) * len(armatus_gamma) * len(stats)), columns=list((\"value\", \"stat\", \"noise\", \"sim\", \"gamma\")))"
   ]
  },
  {
   "cell_type": "code",
   "execution_count": 55,
   "metadata": {},
   "outputs": [
    {
     "name": "stdout",
     "output_type": "stream",
     "text": [
      "item=1099 noise=20 sim=5 gamma=5.0"
     ]
    }
   ],
   "source": [
    "# Fill lava_armatus_stats with values\n",
    "item = 0   \n",
    "for noise in noise_values:\n",
    "    for sim in sim_values:\n",
    "        for gamma in method_ranges[\"lava_armatus\"]:\n",
    "            for stat in stats:\n",
    "                print(f\"\\ritem={item} noise={noise} sim={sim} gamma={gamma}\", end=\"\")\n",
    "                lava_armatus_stats.loc[item, \"value\"] = TAD_stats[stat][\"lava_armatus\"][gamma].loc[noise, sim]\n",
    "                #lava_armatus_stats.loc[item, \"TPR_bins\"] = TAD_stats[\"TPR_bins\"][\"lava_armatus\"][gamma].loc[noise, sim]\n",
    "                #lava_armatus_stats.loc[item, \"FDR_bins\"] = TAD_stats[\"FDR_bins\"][\"lava_armatus\"][gamma].loc[noise, sim]\n",
    "                #lava_armatus_stats.loc[item, \"TPR_boundaries\"] = TAD_stats[\"TPR_boundaries\"][\"lava_armatus\"][gamma].loc[noise, sim]\n",
    "                #lava_armatus_stats.loc[item, \"FDR_boundaries\"] = TAD_stats[\"FDR_boundaries\"][\"lava_armatus\"][gamma].loc[noise, sim]\n",
    "                lava_armatus_stats.loc[item, \"stat\":\"gamma\"] = [stat, noise, sim, gamma]\n",
    "                item += 1"
   ]
  },
  {
   "cell_type": "code",
   "execution_count": 63,
   "metadata": {},
   "outputs": [
    {
     "data": {
      "text/plain": [
       "Text(0.5,1,'Lava implemented armatus stats')"
      ]
     },
     "execution_count": 63,
     "metadata": {},
     "output_type": "execute_result"
    },
    {
     "data": {
      "image/png": "[encoded data removed]",
      "text/plain": [
       "<matplotlib.figure.Figure at 0x1ad61a71630>"
      ]
     },
     "metadata": {},
     "output_type": "display_data"
    }
   ],
   "source": [
    "sns.set_palette(sns.color_palette(\"deep\"))\n",
    "sns.pointplot(data=lava_armatus_stats, x=\"gamma\", y=\"value\", hue=\"stat\")\n",
    "plt.title(\"Lava implemented armatus stats\")"
   ]
  },
  {
   "cell_type": "markdown",
   "metadata": {},
   "source": [
    "Hence, gamma=0 is the best one for lava implemented armatus"
   ]
  }
 ],
 "metadata": {
  "kernelspec": {
   "display_name": "Python 3",
   "language": "python",
   "name": "python3"
  },
  "language_info": {
   "codemirror_mode": {
    "name": "ipython",
    "version": 3
   },
   "file_extension": ".py",
   "mimetype": "text/x-python",
   "name": "python",
   "nbconvert_exporter": "python",
   "pygments_lexer": "ipython3",
   "version": "3.6.4"
  }
 },
 "nbformat": 4,
 "nbformat_minor": 2
}
