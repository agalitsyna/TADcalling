{
 "cells": [
  {
   "cell_type": "code",
   "execution_count": 1,
   "metadata": {},
   "outputs": [],
   "source": [
    "import subprocess\n",
    "import pandas as pd\n",
    "import lavaburst\n",
    "import numpy as np\n",
    "import seaborn as sns\n",
    "import matplotlib as mpl\n",
    "import matplotlib.pyplot as plt"
   ]
  },
  {
   "cell_type": "code",
   "execution_count": 2,
   "metadata": {},
   "outputs": [],
   "source": [
    "# set initial properties for data location\n",
    "res = 40000\n",
    "data_location = \"matrices/\"\n",
    "armatus_location = \"./armatus\"\n",
    "out_location = \"yielded/\"\n",
    "ins_score_data = data_location + \"ins_score_input/\"\n",
    "noise_values = [4, 8, 12, 16, 20]\n",
    "sim_values = list(range(1, 6))"
   ]
  },
  {
   "cell_type": "code",
   "execution_count": 3,
   "metadata": {},
   "outputs": [],
   "source": [
    "armatus_gamma = [i / 2 for i in range(11)]\n",
    "modularity_gamma = list(range(101))\n",
    "potts_gamma = list(range(41))\n",
    "variance_gamma = list(range(101))\n",
    "corner_gamma = [1, 2]"
   ]
  },
  {
   "cell_type": "code",
   "execution_count": 13,
   "metadata": {},
   "outputs": [
    {
     "name": "stdout",
     "output_type": "stream",
     "text": [
      "gamma=0.5 in progress"
     ]
    },
    {
     "ename": "KeyboardInterrupt",
     "evalue": "",
     "output_type": "error",
     "traceback": [
      "\u001b[1;31m---------------------------------------------------------------------------\u001b[0m",
      "\u001b[1;31mKeyboardInterrupt\u001b[0m                         Traceback (most recent call last)",
      "\u001b[1;32m<ipython-input-13-fb08f34a8193>\u001b[0m in \u001b[0;36m<module>\u001b[1;34m()\u001b[0m\n\u001b[0;32m      4\u001b[0m \u001b[1;32mfor\u001b[0m \u001b[0mgamma\u001b[0m \u001b[1;32min\u001b[0m \u001b[0mcustom_range\u001b[0m\u001b[1;33m:\u001b[0m\u001b[1;33m\u001b[0m\u001b[0m\n\u001b[0;32m      5\u001b[0m     \u001b[0mprint\u001b[0m\u001b[1;33m(\u001b[0m\u001b[1;34mf\"\\rgamma={gamma} in progress\"\u001b[0m\u001b[1;33m,\u001b[0m \u001b[0mend\u001b[0m\u001b[1;33m=\u001b[0m\u001b[1;34m\"\"\u001b[0m\u001b[1;33m)\u001b[0m\u001b[1;33m\u001b[0m\u001b[0m\n\u001b[1;32m----> 6\u001b[1;33m     \u001b[0msubprocess\u001b[0m\u001b[1;33m.\u001b[0m\u001b[0mrun\u001b[0m\u001b[1;33m(\u001b[0m\u001b[1;34mf\"bash -c '{armatus_location} -i {data_location}sim1.txt.gz -g {gamma} -o {out_location}sim1_{gamma} -r {res}'\"\u001b[0m\u001b[1;33m)\u001b[0m\u001b[1;33m\u001b[0m\u001b[0m\n\u001b[0m\u001b[0;32m      7\u001b[0m \u001b[0mprint\u001b[0m\u001b[1;33m(\u001b[0m\u001b[1;33m)\u001b[0m\u001b[1;33m\u001b[0m\u001b[0m\n",
      "\u001b[1;32m~\\Anaconda3\\lib\\subprocess.py\u001b[0m in \u001b[0;36mrun\u001b[1;34m(input, timeout, check, *popenargs, **kwargs)\u001b[0m\n\u001b[0;32m    403\u001b[0m     \u001b[1;32mwith\u001b[0m \u001b[0mPopen\u001b[0m\u001b[1;33m(\u001b[0m\u001b[1;33m*\u001b[0m\u001b[0mpopenargs\u001b[0m\u001b[1;33m,\u001b[0m \u001b[1;33m**\u001b[0m\u001b[0mkwargs\u001b[0m\u001b[1;33m)\u001b[0m \u001b[1;32mas\u001b[0m \u001b[0mprocess\u001b[0m\u001b[1;33m:\u001b[0m\u001b[1;33m\u001b[0m\u001b[0m\n\u001b[0;32m    404\u001b[0m         \u001b[1;32mtry\u001b[0m\u001b[1;33m:\u001b[0m\u001b[1;33m\u001b[0m\u001b[0m\n\u001b[1;32m--> 405\u001b[1;33m             \u001b[0mstdout\u001b[0m\u001b[1;33m,\u001b[0m \u001b[0mstderr\u001b[0m \u001b[1;33m=\u001b[0m \u001b[0mprocess\u001b[0m\u001b[1;33m.\u001b[0m\u001b[0mcommunicate\u001b[0m\u001b[1;33m(\u001b[0m\u001b[0minput\u001b[0m\u001b[1;33m,\u001b[0m \u001b[0mtimeout\u001b[0m\u001b[1;33m=\u001b[0m\u001b[0mtimeout\u001b[0m\u001b[1;33m)\u001b[0m\u001b[1;33m\u001b[0m\u001b[0m\n\u001b[0m\u001b[0;32m    406\u001b[0m         \u001b[1;32mexcept\u001b[0m \u001b[0mTimeoutExpired\u001b[0m\u001b[1;33m:\u001b[0m\u001b[1;33m\u001b[0m\u001b[0m\n\u001b[0;32m    407\u001b[0m             \u001b[0mprocess\u001b[0m\u001b[1;33m.\u001b[0m\u001b[0mkill\u001b[0m\u001b[1;33m(\u001b[0m\u001b[1;33m)\u001b[0m\u001b[1;33m\u001b[0m\u001b[0m\n",
      "\u001b[1;32m~\\Anaconda3\\lib\\subprocess.py\u001b[0m in \u001b[0;36mcommunicate\u001b[1;34m(self, input, timeout)\u001b[0m\n\u001b[0;32m    833\u001b[0m                 \u001b[0mstderr\u001b[0m \u001b[1;33m=\u001b[0m \u001b[0mself\u001b[0m\u001b[1;33m.\u001b[0m\u001b[0mstderr\u001b[0m\u001b[1;33m.\u001b[0m\u001b[0mread\u001b[0m\u001b[1;33m(\u001b[0m\u001b[1;33m)\u001b[0m\u001b[1;33m\u001b[0m\u001b[0m\n\u001b[0;32m    834\u001b[0m                 \u001b[0mself\u001b[0m\u001b[1;33m.\u001b[0m\u001b[0mstderr\u001b[0m\u001b[1;33m.\u001b[0m\u001b[0mclose\u001b[0m\u001b[1;33m(\u001b[0m\u001b[1;33m)\u001b[0m\u001b[1;33m\u001b[0m\u001b[0m\n\u001b[1;32m--> 835\u001b[1;33m             \u001b[0mself\u001b[0m\u001b[1;33m.\u001b[0m\u001b[0mwait\u001b[0m\u001b[1;33m(\u001b[0m\u001b[1;33m)\u001b[0m\u001b[1;33m\u001b[0m\u001b[0m\n\u001b[0m\u001b[0;32m    836\u001b[0m         \u001b[1;32melse\u001b[0m\u001b[1;33m:\u001b[0m\u001b[1;33m\u001b[0m\u001b[0m\n\u001b[0;32m    837\u001b[0m             \u001b[1;32mif\u001b[0m \u001b[0mtimeout\u001b[0m \u001b[1;32mis\u001b[0m \u001b[1;32mnot\u001b[0m \u001b[1;32mNone\u001b[0m\u001b[1;33m:\u001b[0m\u001b[1;33m\u001b[0m\u001b[0m\n",
      "\u001b[1;32m~\\Anaconda3\\lib\\subprocess.py\u001b[0m in \u001b[0;36mwait\u001b[1;34m(self, timeout, endtime)\u001b[0m\n\u001b[0;32m   1053\u001b[0m             \u001b[1;32mif\u001b[0m \u001b[0mself\u001b[0m\u001b[1;33m.\u001b[0m\u001b[0mreturncode\u001b[0m \u001b[1;32mis\u001b[0m \u001b[1;32mNone\u001b[0m\u001b[1;33m:\u001b[0m\u001b[1;33m\u001b[0m\u001b[0m\n\u001b[0;32m   1054\u001b[0m                 result = _winapi.WaitForSingleObject(self._handle,\n\u001b[1;32m-> 1055\u001b[1;33m                                                     timeout_millis)\n\u001b[0m\u001b[0;32m   1056\u001b[0m                 \u001b[1;32mif\u001b[0m \u001b[0mresult\u001b[0m \u001b[1;33m==\u001b[0m \u001b[0m_winapi\u001b[0m\u001b[1;33m.\u001b[0m\u001b[0mWAIT_TIMEOUT\u001b[0m\u001b[1;33m:\u001b[0m\u001b[1;33m\u001b[0m\u001b[0m\n\u001b[0;32m   1057\u001b[0m                     \u001b[1;32mraise\u001b[0m \u001b[0mTimeoutExpired\u001b[0m\u001b[1;33m(\u001b[0m\u001b[0mself\u001b[0m\u001b[1;33m.\u001b[0m\u001b[0margs\u001b[0m\u001b[1;33m,\u001b[0m \u001b[0mtimeout\u001b[0m\u001b[1;33m)\u001b[0m\u001b[1;33m\u001b[0m\u001b[0m\n",
      "\u001b[1;31mKeyboardInterrupt\u001b[0m: "
     ]
    }
   ],
   "source": [
    "# run armatus with all gamma values\n",
    "for gamma in armatus_gamma:\n",
    "    print(f\"\\rgamma={gamma} in progress\", end=\"\")\n",
    "    subprocess.run(f\"bash -c '{armatus_location} -i {data_location}simHiC_countMatrix_noise{noise}_sim{sim}.txt.gz -g {gamma} -o {out_location}armatus_gamma{gamma}_noise{noise}_sim{sim} -r {res}'\")\n",
    "print(\"\\rFinished.\")"
   ]
  },
  {
   "cell_type": "code",
   "execution_count": 4,
   "metadata": {},
   "outputs": [],
   "source": [
    "# convert armatus tad coordinates for further handling\n",
    "custom_range = [i / 2 for i in range(13)]\n",
    "for gamma in custom_range:\n",
    "    tads = pd.read_csv(f\"{out_location}armatus_gamma{gamma}_noise{noise}_sim{sim}.txt\", comment = \"#\", sep = \"\\t\", header=None)\n",
    "    del tads[0]\n",
    "    tads[2] = tads[2] + 1\n",
    "    tads.to_csv(f\"{out_location}armatus_gamma{gamma}_noise{noise}_sim{sim}.txt\", sep=\"\\t\", header=None, index=False)\n",
    "    "
   ]
  },
  {
   "cell_type": "code",
   "execution_count": 5,
   "metadata": {},
   "outputs": [
    {
     "name": "stdout",
     "output_type": "stream",
     "text": [
      " finished sim=5\n"
     ]
    }
   ],
   "source": [
    "#load matrices for lavaburst\n",
    "matrices = pd.DataFrame(index=noise_values, columns=sim_values)\n",
    "good_bins = pd.DataFrame(index=noise_values, columns=sim_values)\n",
    "for noise in noise_values:\n",
    "    for sim in sim_values:\n",
    "        print(f\"\\r noise={noise} sim={sim}\", end=\"\")\n",
    "        matrices.loc[noise, sim] = np.loadtxt(f\"{data_location}simHiC_countMatrix_noise{noise}_sim{sim}.txt\")\n",
    "        good_bins.loc[noise, sim] = matrices.loc[noise, sim].astype(bool).sum(axis=0) > 100\n",
    "print(\"\\r finished\")"
   ]
  },
  {
   "cell_type": "code",
   "execution_count": 15,
   "metadata": {},
   "outputs": [
    {
     "name": "stdout",
     "output_type": "stream",
     "text": [
      " noise=20 sim=5 gamma=100 in progress"
     ]
    }
   ],
   "source": [
    "# run lavaburst with modularity score\n",
    "for noise in noise_values:\n",
    "    for sim in sim_values:\n",
    "        for gamma in modularity_gamma:\n",
    "            print(f\"\\r noise={noise} sim={sim} gamma={gamma} in progress\", end=\"\")\n",
    "            S = lavaburst.scoring.modularity_score(matrices.loc[noise, sim], gamma=gamma, binmask=good_bins.loc[noise, sim])\n",
    "            model = lavaburst.SegModel(S)\n",
    "            segments = model.optimal_segmentation()\n",
    "            np.savetxt(f\"{out_location}lava_modularity_noise{noise}_sim{sim}_gamma{gamma}.txt\", segments * res, delimiter=\"\\t\", fmt=\"%d\")"
   ]
  },
  {
   "cell_type": "code",
   "execution_count": 18,
   "metadata": {},
   "outputs": [
    {
     "name": "stdout",
     "output_type": "stream",
     "text": [
      "Finished.sim=5 gamma=5.0 in progress\n"
     ]
    }
   ],
   "source": [
    "#run lavaburst with armatus\n",
    "for noise in noise_values:\n",
    "    for sim in sim_values:\n",
    "        for gamma in armatus_gamma:\n",
    "            print(f\"\\rnoise={noise} sim={sim} gamma={gamma} in progress\", end=\"\")\n",
    "            S = lavaburst.scoring.armatus_score(matrices.loc[noise, sim], gamma=gamma, binmask=good_bins.loc[noise, sim])\n",
    "            model = lavaburst.SegModel(S)\n",
    "            segments = model.optimal_segmentation()\n",
    "            np.savetxt(f\"{out_location}lava_armatus_noise{noise}_sim{sim}_gamma{gamma}.txt\", segments * res, delimiter=\"\\t\", fmt=\"%d\")\n",
    "print(\"\\rFinished.\")"
   ]
  },
  {
   "cell_type": "code",
   "execution_count": 14,
   "metadata": {},
   "outputs": [
    {
     "name": "stdout",
     "output_type": "stream",
     "text": [
      "Finished.sim=5 gamma=40 in progress\n"
     ]
    }
   ],
   "source": [
    "#run lavaburst with potts score\n",
    "for noise in noise_values:\n",
    "    for sim in sim_values:\n",
    "        for gamma in potts_gamma:\n",
    "            print(f\"\\rnoise={noise} sim={sim} gamma={gamma} in progress\", end=\"\")\n",
    "            S = lavaburst.scoring.potts_score(matrices.loc[noise, sim], gamma=gamma, binmask=good_bins.loc[noise, sim])\n",
    "            model = lavaburst.SegModel(S)\n",
    "            segments = model.optimal_segmentation()\n",
    "            np.savetxt(f\"{out_location}lava_potts_noise{noise}_sim{sim}_gamma{gamma}.txt\", segments * res, delimiter=\"\\t\", fmt=\"%d\")\n",
    "print(\"\\rFinished.\")"
   ]
  },
  {
   "cell_type": "code",
   "execution_count": 17,
   "metadata": {},
   "outputs": [
    {
     "name": "stdout",
     "output_type": "stream",
     "text": [
      "\r",
      " noise=4 sim=1 gamma=0 in progress"
     ]
    },
    {
     "ename": "KeyboardInterrupt",
     "evalue": "",
     "output_type": "error",
     "traceback": [
      "\u001b[1;31m---------------------------------------------------------------------------\u001b[0m",
      "\u001b[1;31mKeyboardInterrupt\u001b[0m                         Traceback (most recent call last)",
      "\u001b[1;32m<ipython-input-17-30cd499aa1e0>\u001b[0m in \u001b[0;36m<module>\u001b[1;34m()\u001b[0m\n\u001b[0;32m      6\u001b[0m             \u001b[0mS\u001b[0m \u001b[1;33m=\u001b[0m \u001b[0mlavaburst\u001b[0m\u001b[1;33m.\u001b[0m\u001b[0mscoring\u001b[0m\u001b[1;33m.\u001b[0m\u001b[0mvariance_score\u001b[0m\u001b[1;33m(\u001b[0m\u001b[0mmatrices\u001b[0m\u001b[1;33m.\u001b[0m\u001b[0mloc\u001b[0m\u001b[1;33m[\u001b[0m\u001b[0mnoise\u001b[0m\u001b[1;33m,\u001b[0m \u001b[0msim\u001b[0m\u001b[1;33m]\u001b[0m\u001b[1;33m,\u001b[0m \u001b[0mgamma\u001b[0m\u001b[1;33m=\u001b[0m\u001b[0mgamma\u001b[0m\u001b[1;33m,\u001b[0m \u001b[0mbinmask\u001b[0m\u001b[1;33m=\u001b[0m\u001b[0mgood_bins\u001b[0m\u001b[1;33m.\u001b[0m\u001b[0mloc\u001b[0m\u001b[1;33m[\u001b[0m\u001b[0mnoise\u001b[0m\u001b[1;33m,\u001b[0m \u001b[0msim\u001b[0m\u001b[1;33m]\u001b[0m\u001b[1;33m)\u001b[0m\u001b[1;33m\u001b[0m\u001b[0m\n\u001b[0;32m      7\u001b[0m             \u001b[0mmodel\u001b[0m \u001b[1;33m=\u001b[0m \u001b[0mlavaburst\u001b[0m\u001b[1;33m.\u001b[0m\u001b[0mSegModel\u001b[0m\u001b[1;33m(\u001b[0m\u001b[0mS\u001b[0m\u001b[1;33m)\u001b[0m\u001b[1;33m\u001b[0m\u001b[0m\n\u001b[1;32m----> 8\u001b[1;33m             \u001b[0msegments\u001b[0m \u001b[1;33m=\u001b[0m \u001b[0mmodel\u001b[0m\u001b[1;33m.\u001b[0m\u001b[0moptimal_segmentation\u001b[0m\u001b[1;33m(\u001b[0m\u001b[1;33m)\u001b[0m\u001b[1;33m\u001b[0m\u001b[0m\n\u001b[0m\u001b[0;32m      9\u001b[0m             \u001b[0mnp\u001b[0m\u001b[1;33m.\u001b[0m\u001b[0msavetxt\u001b[0m\u001b[1;33m(\u001b[0m\u001b[1;34mf\"{out_location}lava_variance_noise{noise}_sim{sim}_gamma{gamma}.txt\"\u001b[0m\u001b[1;33m,\u001b[0m \u001b[0msegments\u001b[0m \u001b[1;33m*\u001b[0m \u001b[0mres\u001b[0m\u001b[1;33m,\u001b[0m \u001b[0mdelimiter\u001b[0m\u001b[1;33m=\u001b[0m\u001b[1;34m\"\\t\"\u001b[0m\u001b[1;33m,\u001b[0m \u001b[0mfmt\u001b[0m\u001b[1;33m=\u001b[0m\u001b[1;34m\"%d\"\u001b[0m\u001b[1;33m)\u001b[0m\u001b[1;33m\u001b[0m\u001b[0m\n",
      "\u001b[1;32m~\\Anaconda3\\lib\\site-packages\\lavaburst-0.2.0-py3.6-win-amd64.egg\\lavaburst\\model.py\u001b[0m in \u001b[0;36moptimal_segmentation\u001b[1;34m(self, return_score, maxsize)\u001b[0m\n\u001b[0;32m     29\u001b[0m         \"\"\"\n\u001b[0;32m     30\u001b[0m         \u001b[0mmaxsize\u001b[0m \u001b[1;33m=\u001b[0m \u001b[1;33m-\u001b[0m\u001b[1;36m1\u001b[0m \u001b[1;32mif\u001b[0m \u001b[0mmaxsize\u001b[0m \u001b[1;32mis\u001b[0m \u001b[1;32mNone\u001b[0m \u001b[1;32melse\u001b[0m \u001b[0mmaxsize\u001b[0m\u001b[1;33m\u001b[0m\u001b[0m\n\u001b[1;32m---> 31\u001b[1;33m         \u001b[0mopt\u001b[0m\u001b[1;33m,\u001b[0m \u001b[0mpred\u001b[0m \u001b[1;33m=\u001b[0m \u001b[0malgo\u001b[0m\u001b[1;33m.\u001b[0m\u001b[0mmaxsum\u001b[0m\u001b[1;33m(\u001b[0m\u001b[0mself\u001b[0m\u001b[1;33m.\u001b[0m\u001b[0mscore_matrix\u001b[0m\u001b[1;33m,\u001b[0m \u001b[0mmaxsize\u001b[0m\u001b[1;33m)\u001b[0m\u001b[1;33m\u001b[0m\u001b[0m\n\u001b[0m\u001b[0;32m     32\u001b[0m         \u001b[0mpath\u001b[0m \u001b[1;33m=\u001b[0m \u001b[0malgo\u001b[0m\u001b[1;33m.\u001b[0m\u001b[0mbacktrack\u001b[0m\u001b[1;33m(\u001b[0m\u001b[0mopt\u001b[0m\u001b[1;33m,\u001b[0m \u001b[0mpred\u001b[0m\u001b[1;33m)\u001b[0m\u001b[1;33m\u001b[0m\u001b[0m\n\u001b[0;32m     33\u001b[0m         \u001b[1;32mif\u001b[0m \u001b[0mself\u001b[0m\u001b[1;33m.\u001b[0m\u001b[0medgemask\u001b[0m \u001b[1;32mis\u001b[0m \u001b[1;32mnot\u001b[0m \u001b[1;32mNone\u001b[0m\u001b[1;33m:\u001b[0m\u001b[1;33m\u001b[0m\u001b[0m\n",
      "\u001b[1;31mKeyboardInterrupt\u001b[0m: "
     ]
    }
   ],
   "source": [
    "# run lavaburst with variance score\n",
    "for noise in noise_values:\n",
    "    for sim in sim_values:\n",
    "        for gamma in variance_gamma:\n",
    "            print(f\"\\r noise={noise} sim={sim} gamma={gamma} in progress\", end=\"\")\n",
    "            S = lavaburst.scoring.variance_score(matrices.loc[noise, sim], gamma=gamma, binmask=good_bins.loc[noise, sim])\n",
    "            model = lavaburst.SegModel(S)\n",
    "            segments = model.optimal_segmentation()\n",
    "            np.savetxt(f\"{out_location}lava_variance_noise{noise}_sim{sim}_gamma{gamma}.txt\", segments * res, delimiter=\"\\t\", fmt=\"%d\")"
   ]
  },
  {
   "cell_type": "code",
   "execution_count": 7,
   "metadata": {},
   "outputs": [
    {
     "name": "stdout",
     "output_type": "stream",
     "text": [
      " noise=20 sim=5 gamma=2 in progress"
     ]
    }
   ],
   "source": [
    "# run lavaburst with corner score\n",
    "for noise in noise_values:\n",
    "    for sim in sim_values:\n",
    "        for gamma in corner_gamma:\n",
    "            print(f\"\\r noise={noise} sim={sim} gamma={gamma} in progress\", end=\"\")\n",
    "            S = lavaburst.scoring.corner_score(matrices.loc[noise, sim], gamma=gamma, binmask=good_bins.loc[noise, sim])\n",
    "            model = lavaburst.SegModel(S)\n",
    "            segments = model.optimal_segmentation()\n",
    "            np.savetxt(f\"{out_location}lava_corner_noise{noise}_sim{sim}_gamma{gamma}.txt\", segments * res, delimiter=\"\\t\", fmt=\"%d\")"
   ]
  },
  {
   "cell_type": "code",
   "execution_count": 11,
   "metadata": {},
   "outputs": [],
   "source": [
    "# convert matrices for insulation score DEPRECATED\n",
    "for noise in noise_values:\n",
    "    for sim in sim_values:\n",
    "        ndim = matrices.loc[noise, sim].shape[0]\n",
    "        bin_names = [f\"bin{bin}|sim{sim}noise{noise}|chr1:{bin * res}-{bin * res +res}\" for bin in range(ndim)]\n",
    "        ins_score_matrix = np.empty(shape=(ndim + 1, ndim + 1), dtype=\"object\")\n",
    "        ins_score_matrix[1:, 1:] = matrices.loc[noise, sim]\n",
    "        ins_score_matrix[0, 1:] = bin_names\n",
    "        ins_score_matrix[1:, 0] = bin_names\n",
    "        ins_score_matrix[0,0] = \"\"\n",
    "        np.savetxt(f\"{ins_score_data}simHiC_countMatrix_noise{noise}_sim{sim}.txt\", ins_score_matrix, delimiter=\"\\t\", fmt=\"%s\")"
   ]
  },
  {
   "cell_type": "code",
   "execution_count": 10,
   "metadata": {},
   "outputs": [],
   "source": [
    "# make region bed files for tadtool\n",
    "for noise in noise_values:\n",
    "    for sim in sim_values:\n",
    "        ndim = matrices.loc[noise, sim].shape[0]\n",
    "        regions = np.empty(shape=(ndim, 3), dtype=\"object\")\n",
    "        regions[:, 0] = \"chr1\"\n",
    "        starts = np.array([i * res for i in range(ndim)], dtype=\"int\")\n",
    "        regions[:, 1] = starts\n",
    "        regions[:, 2] = starts + res\n",
    "        np.savetxt(f\"{data_location}region_noise{noise}_sim{sim}.txt\", regions, delimiter=\"\\t\", fmt=\"%s\")"
   ]
  }
 ],
 "metadata": {
  "kernelspec": {
   "display_name": "Python 3",
   "language": "python",
   "name": "python3"
  },
  "language_info": {
   "codemirror_mode": {
    "name": "ipython",
    "version": 3
   },
   "file_extension": ".py",
   "mimetype": "text/x-python",
   "name": "python",
   "nbconvert_exporter": "python",
   "pygments_lexer": "ipython3",
   "version": "3.6.4"
  }
 },
 "nbformat": 4,
 "nbformat_minor": 2
}
